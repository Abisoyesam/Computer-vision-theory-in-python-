{
 "cells": [
  {
   "cell_type": "markdown",
   "id": "cb1a3e1b",
   "metadata": {},
   "source": [
    "# Lesson 17: 3D Reconstruction\n",
    "\n",
    "![camera](../images/camera.png)\n",
    "\n",
    "Image is a 2D structure. You may think you can get 3D from 2D otherwise known as 3D Reconstruction.Camera changes 3D to 2D scene. \n",
    "\n",
    "## Motion Capture\n",
    "\n",
    "![image](../images/motion.png)\n",
    "\n",
    "Motion capture data is used in realistic modelling usually in animation.\n",
    "![image](../images/motioncap.png)"
   ]
  },
  {
   "cell_type": "markdown",
   "id": "7ca2b620",
   "metadata": {},
   "source": [
    "## Camera\n",
    "\n",
    "**Mathematical model of camera**\n",
    "![image](../images/camera.png)\n",
    "\n",
    "* The camera can be model as a box in which there is a tiny hole called pinhole.\n",
    "* The plane at the back is called the image plane full of photosensitive sensors. HD 4k, 2k has to do with the number of sensors.\n",
    "* Camera projection from 3D to 2D is just a **3 by 4** matrix.\n",
    "* There are 11 parameters related to camera. 5 intrinsic parameters such as focal length , 6 extrinsic parameter such as orientation.\n",
    "* Camera is a $3 x 4$ matrix and it maps points in 3D space presented as homogeneous cordinates and give its projective point in homogeneous cordinate..\n",
    "\n",
    "$\\begin{bmatrix}x \\\\ y \\\\ z \\\\ 1 \\end{bmatrix}\\begin{bmatrix} p_1 & p_2 & p_3 & p_4 \\\\ p_5 & p_6 & p_7 & p_8 \\\\ p_9 & p_{10} & p_{11} & p_{12} \\end{bmatrix} \\to \\begin{bmatrix}x' \\\\ y' \\\\ \\lambda \\end{bmatrix} \\to \\begin{pmatrix} x \\\\ y \\end{pmatrix}$\n",
    "\n",
    "**N.B:** _You can read Multiple view geometry in computer vision book by Harly, Zisserman (Chapter 6)_."
   ]
  },
  {
   "cell_type": "markdown",
   "id": "0cef7aa0",
   "metadata": {},
   "source": [
    "## Triangulation\n",
    "![image](../images/triangle.png)\n",
    "\n",
    "To reconstruct a 3D from 2D, you need at least two camera.\n",
    "\n",
    "### Camera Matrix Estimation\n",
    "\n",
    "${\\large DLT} \\hspace{10mm} \\begin{bmatrix} O^T & -w_iX_i^T & y_iX_i^T \\\\ w_iX_i^T & O^T & -x_iX_i^T \\end{bmatrix}\\begin{pmatrix} p^1 \\\\ p^2 \\\\ p^3 \\end{pmatrix} = 0 \\\\[5mm] \\hspace{45mm}{\\large Ax = 0} $"
   ]
  }
 ],
 "metadata": {
  "kernelspec": {
   "display_name": "Python 3",
   "language": "python",
   "name": "python3"
  },
  "language_info": {
   "codemirror_mode": {
    "name": "ipython",
    "version": 3
   },
   "file_extension": ".py",
   "mimetype": "text/x-python",
   "name": "python",
   "nbconvert_exporter": "python",
   "pygments_lexer": "ipython3",
   "version": "3.8.8"
  }
 },
 "nbformat": 4,
 "nbformat_minor": 5
}
