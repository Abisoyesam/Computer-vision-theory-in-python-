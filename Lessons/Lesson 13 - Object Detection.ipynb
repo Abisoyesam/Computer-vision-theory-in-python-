{
 "cells": [
  {
   "cell_type": "markdown",
   "id": "14f782f3",
   "metadata": {},
   "source": [
    "# Lesson 13: Object Detection\n",
    "\n",
    "* **Object localization:** determining the location of the object.\n",
    "* **Object recognition:** determing which/what object it is.\n",
    "\n",
    "## Classification Pipeline\n",
    "\n",
    "![classification](../images/class.PNG)\n",
    "\n",
    "- Have a lot of same image of the same size to train.\n",
    "- Before training, you may extract certain features from the image using feature descriptor.\n",
    "- If image dimension to be tested is bigger than trained image, then `windowing` is done."
   ]
  },
  {
   "cell_type": "markdown",
   "id": "f72b05f3",
   "metadata": {},
   "source": [
    "### Sliding Window\n",
    "\n",
    "![window](../images/window.png)\n",
    "\n",
    "* The widow size is the size of train image.\n",
    "* The dimension is preferred to be `odd x odd` inorder to locate centre pixel.\n",
    "\n",
    "![extract](../images/extract.png)"
   ]
  },
  {
   "cell_type": "markdown",
   "id": "e5be1eea",
   "metadata": {},
   "source": [
    "### Shift Invariance\n",
    "\n",
    "Object in an image can appear at different locations or position. The ability to detect it is the shift invariance. Shift invariance can be handled through `Sliding window`.\n",
    "\n",
    "If object to be detected are of various size or orientation, it can be detected as follows:\n",
    "\n",
    "**Scale Invariance**\n",
    "\n",
    "- Train the image for a fixed kind of scale or orientation\n",
    "- Scale the window size by reducing the image size through `Gaussain pyramid`\n",
    "- Scale invariance can be done using `YOLO algorithm`"
   ]
  },
  {
   "cell_type": "markdown",
   "id": "7c350318",
   "metadata": {},
   "source": [
    "### Person Detection: HOG\n",
    "\n",
    "![person](../images/pers.png)\n",
    "\n",
    "- Training images of fixed size with person only and person with other object\n",
    "- Extracting HOG features\n",
    "- Perform support vector machine classifier (SVM)\n",
    "\n",
    "**HOG Features**\n",
    "What HOG feature does is that they divide images into blocks and further divides blocks into cell."
   ]
  },
  {
   "cell_type": "markdown",
   "id": "eee9dd85",
   "metadata": {},
   "source": [
    "## Hand Engineering Vs CNN\n",
    "\n",
    "**READ UP**"
   ]
  },
  {
   "cell_type": "code",
   "execution_count": 4,
   "id": "d7e11240",
   "metadata": {},
   "outputs": [],
   "source": [
    "# Person detection implementation\n",
    "import cv2\n",
    "import numpy as np\n",
    "import matplotlib.pyplot as plt\n",
    "import imutils\n",
    "from imutils.object_detection import non_max_suppression"
   ]
  },
  {
   "cell_type": "code",
   "execution_count": 3,
   "id": "7c9ca954",
   "metadata": {},
   "outputs": [
    {
     "name": "stdout",
     "output_type": "stream",
     "text": [
      "Collecting imutils\n",
      "  Downloading imutils-0.5.4.tar.gz (17 kB)\n",
      "Building wheels for collected packages: imutils\n",
      "  Building wheel for imutils (setup.py): started\n",
      "  Building wheel for imutils (setup.py): finished with status 'done'\n",
      "  Created wheel for imutils: filename=imutils-0.5.4-py3-none-any.whl size=25860 sha256=854f592213475ffea5863ce1e96831e67d6d27dcfbcca3406fcdeedf135f66df\n",
      "  Stored in directory: c:\\users\\ad\\appdata\\local\\pip\\cache\\wheels\\59\\1b\\52\\0dea905f8278d5514dc4d0be5e251967f8681670cadd3dca89\n",
      "Successfully built imutils\n",
      "Installing collected packages: imutils\n",
      "Successfully installed imutils-0.5.4\n"
     ]
    }
   ],
   "source": [
    "!pip install imutils"
   ]
  },
  {
   "cell_type": "code",
   "execution_count": null,
   "id": "bd89312c",
   "metadata": {},
   "outputs": [],
   "source": []
  }
 ],
 "metadata": {
  "kernelspec": {
   "display_name": "Python 3",
   "language": "python",
   "name": "python3"
  },
  "language_info": {
   "codemirror_mode": {
    "name": "ipython",
    "version": 3
   },
   "file_extension": ".py",
   "mimetype": "text/x-python",
   "name": "python",
   "nbconvert_exporter": "python",
   "pygments_lexer": "ipython3",
   "version": "3.8.8"
  }
 },
 "nbformat": 4,
 "nbformat_minor": 5
}
