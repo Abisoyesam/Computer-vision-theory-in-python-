{
 "cells": [
  {
   "cell_type": "markdown",
   "id": "5cc8648f",
   "metadata": {},
   "source": [
    "# Lesson 15: Motion\n",
    "\n",
    "## Optical Flow\n",
    "![optical](../images/optical.png)\n",
    "\n",
    "The moving cars in the first frame have the row and column value with displacement u and v respectively compared to the second frame.\n",
    "\n",
    "i.e $I(x, y, t)$ in the first frame will be $I(x+u, y+v, t+1)$ in the next 1sec if moving.\n",
    "\n",
    "**Assumption**\n",
    "\n",
    "- Even if the point move with displacement (u, v), its brightness or intensity does not change. \n",
    "\n",
    "$$I(x, y, t) - I(x+u, y+v, t+1) = 0$$"
   ]
  },
  {
   "cell_type": "markdown",
   "id": "68938993",
   "metadata": {},
   "source": [
    "## Optical Flow Derivation\n",
    "\n",
    "$I(x+u, y+v, t+1) - I(x, y, t) = 0 \\\\\n",
    "I_x(x, y, t)u + I_y(x, y, t)v + I_t(x, y, t) + I(x,y,t) - I(x,y,t) = 0 \\\\\n",
    "I_xu + I_yv + I_t = 0 \\\\[5mm]\n",
    "I_{x_1}u + I_{y_1}v = -I_{t_1} \\\\\n",
    "I_{x_2}u + I_{y_2}v = -I_{t_2} \\\\\n",
    "\\vdots \\hspace{13mm} \\vdots \\hspace{13mm} \\vdots\\\\\n",
    "I_{x_9}u + I_{y_9}v = -I_{t_9} \\\\[5mm]$\n",
    "\n",
    "$\\begin{bmatrix}x_{x_1} & {y_1}\\\\x_{x_2} & {y_2}\\\\ \\vdots &\\vdots \\\\ x_{x_9} &{y_9} \\end{bmatrix} \\begin{bmatrix} u \\\\ v \\\\ \\vdots \\\\ w\\end{bmatrix} = \\begin{bmatrix}x_{x_1} \\\\x_{x_2}\\\\ \\vdots \\\\ x_{x_9}  \\end{bmatrix}\n",
    "$"
   ]
  },
  {
   "cell_type": "code",
   "execution_count": null,
   "id": "d318e083",
   "metadata": {},
   "outputs": [],
   "source": []
  }
 ],
 "metadata": {
  "kernelspec": {
   "display_name": "Python 3",
   "language": "python",
   "name": "python3"
  },
  "language_info": {
   "codemirror_mode": {
    "name": "ipython",
    "version": 3
   },
   "file_extension": ".py",
   "mimetype": "text/x-python",
   "name": "python",
   "nbconvert_exporter": "python",
   "pygments_lexer": "ipython3",
   "version": "3.8.8"
  }
 },
 "nbformat": 4,
 "nbformat_minor": 5
}
