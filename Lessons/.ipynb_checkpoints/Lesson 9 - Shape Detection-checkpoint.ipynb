{
 "cells": [
  {
   "cell_type": "markdown",
   "id": "08794bb6",
   "metadata": {},
   "source": [
    "# Shape Detection\n",
    "\n",
    "* Lines\n",
    "* Circle\n",
    "* Elipse\n",
    "\n",
    "## RANSAC\n",
    "It is one of the algorithm for shape detection. RAN - Random, SA - Sampling, C - concesus\n",
    "![Ransac](../images/ransac.png)"
   ]
  },
  {
   "cell_type": "code",
   "execution_count": 1,
   "id": "c80ebe74",
   "metadata": {},
   "outputs": [],
   "source": [
    "# Randomly sampling of points\n",
    "\n",
    "import cv2\n",
    "import numpy as np\n",
    "import matplotlib.pyplot as plt"
   ]
  },
  {
   "cell_type": "code",
   "execution_count": 2,
   "id": "edef640c",
   "metadata": {},
   "outputs": [],
   "source": [
    "def f_randomSample(r,c,n):\n",
    "    '''\n",
    "    r is row\n",
    "    c is the column\n",
    "    n is number of point(s)\n",
    "    '''\n",
    "    totalPoints = len(r)\n",
    "    idx = np.random.permutation(np.arange(totalPoints))\n",
    "    idx = idx[:n]\n",
    "    r2,c2 = [],[]\n",
    "    for i in range(len(idx)):\n",
    "        r2.append(r[idx[i]])\n",
    "        c2.append(c[idx[i]])\n",
    "    return r2,c2"
   ]
  },
  {
   "cell_type": "code",
   "execution_count": 3,
   "id": "92e76610",
   "metadata": {},
   "outputs": [],
   "source": [
    "r = np.arange(10)\n",
    "c = np.arange(10)[::-1]"
   ]
  },
  {
   "cell_type": "code",
   "execution_count": 4,
   "id": "0999b9ae",
   "metadata": {},
   "outputs": [
    {
     "data": {
      "text/plain": [
       "array([0, 1, 2, 3, 4, 5, 6, 7, 8, 9])"
      ]
     },
     "execution_count": 4,
     "metadata": {},
     "output_type": "execute_result"
    }
   ],
   "source": [
    "r"
   ]
  },
  {
   "cell_type": "code",
   "execution_count": 5,
   "id": "4039c8e6",
   "metadata": {},
   "outputs": [
    {
     "data": {
      "text/plain": [
       "array([9, 8, 7, 6, 5, 4, 3, 2, 1, 0])"
      ]
     },
     "execution_count": 5,
     "metadata": {},
     "output_type": "execute_result"
    }
   ],
   "source": [
    "c"
   ]
  },
  {
   "cell_type": "code",
   "execution_count": 6,
   "id": "f560e2e7",
   "metadata": {},
   "outputs": [
    {
     "name": "stdout",
     "output_type": "stream",
     "text": [
      "[7, 3] [2, 6]\n"
     ]
    }
   ],
   "source": [
    "r2,c2 = f_randomSample(r,c,2)\n",
    "print(r2,c2)"
   ]
  },
  {
   "cell_type": "code",
   "execution_count": 7,
   "id": "555db478",
   "metadata": {},
   "outputs": [
    {
     "name": "stdout",
     "output_type": "stream",
     "text": [
      "[6, 1, 0, 4, 2, 7, 8, 5, 3] [3, 8, 9, 5, 7, 2, 1, 4, 6]\n"
     ]
    }
   ],
   "source": [
    "r2,c2 = f_randomSample(r,c,9)\n",
    "print(r2,c2)"
   ]
  },
  {
   "cell_type": "markdown",
   "id": "90be6e5f",
   "metadata": {},
   "source": [
    "### RANSAC: Line\n",
    "\n",
    "Equation of line is $y = mx + c$\n",
    "\n",
    "Assuming y is the `col` and x is the `row`, m = a and c = b. Therefore, $c = ar + b$\n",
    "\n",
    "if $\\begin{bmatrix}r_1 = 2 \\\\ c_1 = 15\\end{bmatrix} and \\begin{bmatrix}r_2 = 20 \\\\ c_2 = 5\\end{bmatrix}$\n",
    "\n",
    "Hence, two equations are formed:\n",
    "$2a + b = 15 \\\\ 20a + b = 6$\n",
    "\n",
    "Solve simulteneously using crammar rule..\n",
    "\n",
    "$\\begin{bmatrix} 2 & 1 \\\\ 20 & 1\\end{bmatrix}\\begin{bmatrix} a \\\\ b\\end{bmatrix} = \\begin{bmatrix} 15 \\\\ 6\\end{bmatrix}$\n",
    "\n",
    "${\\Large A_x = B}$\n",
    "\n",
    "Recall from Affine transformation\n",
    "\n",
    "$X = A^{-1}B$"
   ]
  },
  {
   "cell_type": "code",
   "execution_count": 8,
   "id": "f60dee1e",
   "metadata": {},
   "outputs": [],
   "source": [
    "# Fitting line given 2 points\n",
    "\n",
    "def f_fitLine(r1,c1,r2,c2):\n",
    "    # init X so that code doesn't if condition not met\n",
    "    X = np.array([1,1])\n",
    "    A = np.array([[r1,1],[r2,1]])\n",
    "    B = np.array([[c1],[c2]])\n",
    "    if np.linalg.matrix_rank(A) == 2:\n",
    "        X = np.linalg.inv(A).dot(B)\n",
    "    a, b = X[0], X[1]\n",
    "    return a,b"
   ]
  },
  {
   "cell_type": "code",
   "execution_count": 9,
   "id": "510bbc93",
   "metadata": {},
   "outputs": [],
   "source": [
    "r = np.arange(10)\n",
    "c = np.arange(10)[::-1]\n",
    "r2,c2 = f_randomSample(r,c,2)\n",
    "a,b = f_fitLine(r2[0],c2[0],r2[1],c2[1])"
   ]
  },
  {
   "cell_type": "code",
   "execution_count": 10,
   "id": "0a978ab0",
   "metadata": {},
   "outputs": [
    {
     "name": "stdout",
     "output_type": "stream",
     "text": [
      "[-1.] [9.]\n"
     ]
    }
   ],
   "source": [
    "print(a,b)"
   ]
  },
  {
   "cell_type": "code",
   "execution_count": 11,
   "id": "2c6ac44f",
   "metadata": {},
   "outputs": [],
   "source": [
    "# consistency score implementation\n",
    "\n",
    "def f_getConsistencyScore(r,c,th,a,b):\n",
    "    score = 0\n",
    "    for i in range(len(r)):\n",
    "        squaredError = (a*r[i] + b - c[i])**2\n",
    "        if squaredError < th:\n",
    "            score += 1\n",
    "    return score"
   ]
  },
  {
   "cell_type": "code",
   "execution_count": 12,
   "id": "4ee03daa",
   "metadata": {},
   "outputs": [],
   "source": [
    "def f_RANSACLine(E):\n",
    "    E = E > 0\n",
    "    idx = np.argwhere(E)\n",
    "    r,c = idx[:,0], idx[:,1]\n",
    "    best_a, best_b = 0,0\n",
    "    maxScore = -1\n",
    "    numIter = 100\n",
    "    for iter in range(numIter):\n",
    "        r2,c2 = f_randomSample(r,c,2)\n",
    "        a, b = f_fitLine(r2[0],c2[0],r2[1],c2[1])\n",
    "        score = f_getConsistencyScore(r,c,2,a,b)\n",
    "        if score > maxScore:\n",
    "            maxScore = score\n",
    "            best_a,best_b = a,b\n",
    "    return best_a,best_b"
   ]
  },
  {
   "cell_type": "code",
   "execution_count": 13,
   "id": "b7996794",
   "metadata": {},
   "outputs": [
    {
     "data": {
      "image/png": "[encoded data removed]",
      "text/plain": [
       "<Figure size 432x288 with 1 Axes>"
      ]
     },
     "metadata": {
      "needs_background": "light"
     },
     "output_type": "display_data"
    }
   ],
   "source": [
    "img = plt.imread('../images/E.png')\n",
    "plt.imshow(img, cmap='gray');"
   ]
  },
  {
   "cell_type": "code",
   "execution_count": 14,
   "id": "88122041",
   "metadata": {},
   "outputs": [
    {
     "data": {
      "text/plain": [
       "(499, 1153, 4)"
      ]
     },
     "execution_count": 14,
     "metadata": {},
     "output_type": "execute_result"
    }
   ],
   "source": [
    "img.shape"
   ]
  },
  {
   "cell_type": "code",
   "execution_count": 15,
   "id": "6aca84b5",
   "metadata": {},
   "outputs": [],
   "source": [
    "img = img[:,:,0]"
   ]
  },
  {
   "cell_type": "code",
   "execution_count": 16,
   "id": "ab7c543f",
   "metadata": {},
   "outputs": [
    {
     "data": {
      "text/plain": [
       "(499, 1153)"
      ]
     },
     "execution_count": 16,
     "metadata": {},
     "output_type": "execute_result"
    }
   ],
   "source": [
    "img.shape"
   ]
  },
  {
   "cell_type": "code",
   "execution_count": 17,
   "id": "5f8ec64b",
   "metadata": {},
   "outputs": [
    {
     "data": {
      "text/plain": [
       "(1.0, 0.0)"
      ]
     },
     "execution_count": 17,
     "metadata": {},
     "output_type": "execute_result"
    }
   ],
   "source": [
    "img.max(), img.min()"
   ]
  },
  {
   "cell_type": "code",
   "execution_count": 18,
   "id": "2eeca11b",
   "metadata": {},
   "outputs": [],
   "source": [
    "best_a, best_b = f_RANSACLine(img)"
   ]
  },
  {
   "cell_type": "code",
   "execution_count": 19,
   "id": "35dff81e",
   "metadata": {},
   "outputs": [
    {
     "data": {
      "text/plain": [
       "(array([-2.09627329]), array([821.00621118]))"
      ]
     },
     "execution_count": 19,
     "metadata": {},
     "output_type": "execute_result"
    }
   ],
   "source": [
    "best_a,best_b"
   ]
  },
  {
   "cell_type": "code",
   "execution_count": 20,
   "id": "b4a0ee4d",
   "metadata": {},
   "outputs": [],
   "source": [
    "# draw the line on img\n",
    "\n",
    "def f_getExtents(a,b,numRows,numCols):\n",
    "    r1 = int(0)\n",
    "    c1 = int(a*r1+b)\n",
    "    r2 = int(numRows - 1)\n",
    "    c2 = int(a*r2+b)\n",
    "    return (c1,r1),(c2,r2)"
   ]
  },
  {
   "cell_type": "code",
   "execution_count": 21,
   "id": "6ebfc9fc",
   "metadata": {},
   "outputs": [
    {
     "data": {
      "text/plain": [
       "((821, 0), (-222, 498))"
      ]
     },
     "execution_count": 21,
     "metadata": {},
     "output_type": "execute_result"
    }
   ],
   "source": [
    "# s= stating, e = ending\n",
    "s,e = f_getExtents(best_a,best_b,img.shape[0],img.shape[1])\n",
    "s,e"
   ]
  },
  {
   "cell_type": "code",
   "execution_count": 22,
   "id": "bf0251d2",
   "metadata": {},
   "outputs": [
    {
     "data": {
      "text/plain": [
       "<matplotlib.image.AxesImage at 0x28c72b75460>"
      ]
     },
     "execution_count": 22,
     "metadata": {},
     "output_type": "execute_result"
    },
    {
     "data": {
      "image/png": "[encoded data removed]",
      "text/plain": [
       "<Figure size 432x288 with 1 Axes>"
      ]
     },
     "metadata": {
      "needs_background": "light"
     },
     "output_type": "display_data"
    }
   ],
   "source": [
    "img2 = np.zeros((img.shape[0],img.shape[1],3), dtype=np.uint8)\n",
    "img3 = np.array(255*img,np.uint8)\n",
    "img2[:,:,0] = img3\n",
    "img2[:,:,1] = img3\n",
    "img2[:,:,2] = img3\n",
    "I = cv2.line(img2,s,e,(0,0,255),3)\n",
    "plt.imshow(I[:,:,::-1])"
   ]
  },
  {
   "cell_type": "markdown",
   "id": "3b9cd1ad",
   "metadata": {},
   "source": [
    "### RANSAC: Circle\n",
    "\n",
    "![ransac for circle](../images/circle.png)\n",
    "\n",
    "* For circle, you need 3 non-colinear point to fit a circle.\n",
    "* Formular for circle $(x-a)^2 + (y-b)^2 = r^2$. x = row, y = col, (a,b) are the center"
   ]
  },
  {
   "cell_type": "code",
   "execution_count": 24,
   "id": "c888d5ae",
   "metadata": {},
   "outputs": [],
   "source": [
    "def f_fitCircle(x1,y1,x2,y2,x3,y3):\n",
    "    c = (x1-x2)**2 + (y1-y2)**2\n",
    "    a = (x2-x3)**2 + (y2-y3)**2\n",
    "    b = (x3-x1)**2 + (y3-y1)**2\n",
    "    s = 2*(a*b + b*c + c*a) - (a*a + b*b + c*c)\n",
    "    px = (a*(b+c-a)+x1 + b*(c+a-b)*x2 + c*(a+b-c)*x3)/s\n",
    "    py = (a*(b+c-a)+y1 + b*(c+a-b)*y2 + c*(a+b-c)*y3)/s\n",
    "    ar = a**0.5\n",
    "    br = b**0.5\n",
    "    cr = c**0.5\n",
    "    r = ar*br*cr/((ar+br+cr)*(-ar+br+cr)*(ar-br+cr)*(ar+br-cr))**0.5\n",
    "    return px,py,r"
   ]
  },
  {
   "cell_type": "code",
   "execution_count": 25,
   "id": "6f33bf7a",
   "metadata": {},
   "outputs": [],
   "source": [
    "def f_getConsistencyScore_circle(x,y,th,a,b,r):\n",
    "    score = 0\n",
    "    for i in range(len(x)):\n",
    "        sd = ((x[i]-a)**2 + (y[i] - b)**2 - r**2)**2\n",
    "        if sd < th:\n",
    "            score += 1\n",
    "    return score"
   ]
  },
  {
   "cell_type": "code",
   "execution_count": 56,
   "id": "6ba12b69",
   "metadata": {},
   "outputs": [],
   "source": [
    "def f_RANSACCircle(E):\n",
    "    E = E > 0\n",
    "    idx = np.argwhere(E)\n",
    "    x,y = idx[:,0], idx[:,1]\n",
    "    best_a, best_b, best_r = 0,0,0\n",
    "    maxScore = -1\n",
    "    numIter = 1000\n",
    "    for iter in range(numIter):\n",
    "        r2,c2 = f_randomSample(x,y,3)\n",
    "        a, b, r = f_fitCircle(r2[0],c2[0],r2[1],c2[1],r2[2],c2[2])\n",
    "        score = f_getConsistencyScore_circle(x,y,3,a,b,r)\n",
    "        if score > maxScore:\n",
    "            maxScore = score\n",
    "            best_a, best_b, best_r = a,b,r\n",
    "    return best_a,best_b,best_r"
   ]
  },
  {
   "cell_type": "code",
   "execution_count": 57,
   "id": "19f83d61",
   "metadata": {},
   "outputs": [
    {
     "data": {
      "image/png": "[encoded data removed]",
      "text/plain": [
       "<Figure size 432x288 with 1 Axes>"
      ]
     },
     "metadata": {
      "needs_background": "light"
     },
     "output_type": "display_data"
    }
   ],
   "source": [
    "E = plt.imread('../images/E2.png')[:,:,0]\n",
    "plt.imshow(E, cmap='gray');"
   ]
  },
  {
   "cell_type": "code",
   "execution_count": 58,
   "id": "8b94593a",
   "metadata": {},
   "outputs": [
    {
     "data": {
      "text/plain": [
       "(257, 280)"
      ]
     },
     "execution_count": 58,
     "metadata": {},
     "output_type": "execute_result"
    }
   ],
   "source": [
    "E.shape"
   ]
  },
  {
   "cell_type": "code",
   "execution_count": 59,
   "id": "44b429fd",
   "metadata": {},
   "outputs": [
    {
     "data": {
      "text/plain": [
       "(0.99607843, 0.0)"
      ]
     },
     "execution_count": 59,
     "metadata": {},
     "output_type": "execute_result"
    }
   ],
   "source": [
    "E.max(),E.min()"
   ]
  },
  {
   "cell_type": "code",
   "execution_count": 60,
   "id": "30cd0862",
   "metadata": {},
   "outputs": [],
   "source": [
    "best_a,best_b,best_r = f_RANSACCircle(E);"
   ]
  },
  {
   "cell_type": "code",
   "execution_count": 61,
   "id": "60939c83",
   "metadata": {},
   "outputs": [
    {
     "data": {
      "text/plain": [
       "(88.65997822364317, 89.62286985911481, 71.27901652043758)"
      ]
     },
     "execution_count": 61,
     "metadata": {},
     "output_type": "execute_result"
    }
   ],
   "source": [
    "best_a, best_b, best_r"
   ]
  },
  {
   "cell_type": "code",
   "execution_count": 62,
   "id": "3585b049",
   "metadata": {},
   "outputs": [
    {
     "data": {
      "text/plain": [
       "<matplotlib.image.AxesImage at 0x28c74fd8970>"
      ]
     },
     "execution_count": 62,
     "metadata": {},
     "output_type": "execute_result"
    },
    {
     "data": {
      "image/png": "[encoded data removed]",
      "text/plain": [
       "<Figure size 432x288 with 1 Axes>"
      ]
     },
     "metadata": {
      "needs_background": "light"
     },
     "output_type": "display_data"
    }
   ],
   "source": [
    "E2 = np.zeros((E.shape[0],E.shape[1],3), dtype=np.uint8)\n",
    "E3 = np.array(255*E,np.uint8)\n",
    "E2[:,:,0] = E3\n",
    "E2[:,:,1] = E3\n",
    "E2[:,:,2] = E3\n",
    "I = cv2.circle(E2,(int(best_a),int(best_b)),int(best_r),(0,0,255),2)\n",
    "plt.imshow(I[:,:,::-1])"
   ]
  }
 ],
 "metadata": {
  "kernelspec": {
   "display_name": "Python 3",
   "language": "python",
   "name": "python3"
  },
  "language_info": {
   "codemirror_mode": {
    "name": "ipython",
    "version": 3
   },
   "file_extension": ".py",
   "mimetype": "text/x-python",
   "name": "python",
   "nbconvert_exporter": "python",
   "pygments_lexer": "ipython3",
   "version": "3.8.8"
  }
 },
 "nbformat": 4,
 "nbformat_minor": 5
}
