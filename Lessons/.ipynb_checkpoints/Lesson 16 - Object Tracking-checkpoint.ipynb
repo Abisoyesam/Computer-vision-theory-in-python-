{
 "cells": [
  {
   "cell_type": "markdown",
   "id": "8f03745e",
   "metadata": {},
   "source": [
    "# Lesson 16: Object Tracking"
   ]
  },
  {
   "cell_type": "markdown",
   "id": "9a1229c6",
   "metadata": {},
   "source": [
    "## Tracking by detection\n",
    "\n",
    "**Motion Model Assumption**\n",
    "\n",
    "- Motion of the object is not random but smooth.\n",
    "- If the motion is not rapid, it is assume to be random.\n",
    "\n",
    "## Algorithm for Object tracking: KLT\n",
    "\n",
    "**K** for Kanady, **L** for Lucas, and **T** for Tomassi. \n",
    "* KLT tracks Corners.\n",
    "* They track corner using optical flow.\n",
    "* It is fast & powerful tracker.\n",
    "\n",
    "## Algorithm for Object tracking: TLD\n",
    "**T** for Training, **L** for learning, **D** for detection.\n",
    "* To track particular object\n",
    "* It computes the features of that object"
   ]
  },
  {
   "cell_type": "markdown",
   "id": "b0db521d",
   "metadata": {},
   "source": [
    "## Single Object Tracking in Videos Using OpenCV\n",
    "\n",
    "Object tracking is really important in data science and video analysis. "
   ]
  },
  {
   "cell_type": "code",
   "execution_count": 1,
   "id": "a5ed6636",
   "metadata": {},
   "outputs": [],
   "source": [
    "import cv2"
   ]
  },
  {
   "cell_type": "code",
   "execution_count": 2,
   "id": "fca8e096",
   "metadata": {
    "scrolled": true
   },
   "outputs": [],
   "source": [
    "# Dictionary of different tracker in OpenCV\n",
    "\n",
    "TrackerDict = {\n",
    "    'csrt': cv2.TrackerCSRT_create,\n",
    "    'kcf': cv2.TrackerKCF_create,\n",
    "    'boosting': cv2.TrackerBoosting_create,\n",
    "    'mil': cv2.TrackerMIL_create,\n",
    "    'tld': cv2.TrackerTLD_create,\n",
    "    'medianflow': cv2.TrackerMedianFlow_create,\n",
    "    'mosse': cv2.TrackerMOSSE_create\n",
    "    }\n",
    "\n",
    "# CSRT tracker is really much accurate but slow\n",
    "# Mosse tracker loss track if object moves faster\n",
    "tracker = TrackerDict['csrt']()"
   ]
  },
  {
   "cell_type": "code",
   "execution_count": 3,
   "id": "c934e88e",
   "metadata": {},
   "outputs": [],
   "source": [
    "video = cv2.VideoCapture('../images/mot.mp4')"
   ]
  },
  {
   "cell_type": "code",
   "execution_count": 4,
   "id": "b25bb617",
   "metadata": {},
   "outputs": [
    {
     "data": {
      "text/plain": [
       "True"
      ]
     },
     "execution_count": 4,
     "metadata": {},
     "output_type": "execute_result"
    }
   ],
   "source": [
    "ret, frame = video.read()\n",
    "cv2.imshow('Frame',frame)\n",
    "# ROI - Region of interest\n",
    "bbox = cv2.selectROI('Frame',frame)\n",
    "tracker.init(frame,bbox)"
   ]
  },
  {
   "cell_type": "code",
   "execution_count": 5,
   "id": "1d4d4024",
   "metadata": {},
   "outputs": [],
   "source": [
    "while True:\n",
    "    ret, frame = video.read()\n",
    "    if not ret:\n",
    "        break\n",
    "    (success, box) = tracker.update(frame)\n",
    "    if success:\n",
    "        (x,y,w,h) = [int(a) for a in box]\n",
    "        cv2.rectangle(frame,(x,y),(x+w, y+h),(0,255,0),2)\n",
    "    cv2.imshow('Frame',frame)\n",
    "    key = cv2.waitKey(5) & 0xFF \n",
    "    if key == ord('q'):\n",
    "        break\n",
    "        \n",
    "video.release()\n",
    "cv2.destroyAllWindows()"
   ]
  },
  {
   "cell_type": "markdown",
   "id": "52b0ba2c",
   "metadata": {},
   "source": [
    "## Multiple Object Tracking in Videos Using OpenCV"
   ]
  },
  {
   "cell_type": "code",
   "execution_count": 6,
   "id": "35171b07",
   "metadata": {},
   "outputs": [],
   "source": [
    "TrackerDict = {\n",
    "    'csrt': cv2.TrackerCSRT_create,\n",
    "    'kcf': cv2.TrackerKCF_create,\n",
    "    'boosting': cv2.TrackerBoosting_create,\n",
    "    'mil': cv2.TrackerMIL_create,\n",
    "    'tld': cv2.TrackerTLD_create,\n",
    "    'medianflow': cv2.TrackerMedianFlow_create,\n",
    "    'mosse': cv2.TrackerMOSSE_create\n",
    "    }\n",
    "\n",
    "trackers = cv2.MultiTracker_create()"
   ]
  },
  {
   "cell_type": "code",
   "execution_count": 7,
   "id": "b34f41c7",
   "metadata": {},
   "outputs": [],
   "source": [
    "vs = cv2.VideoCapture('../images/mot.mp4')\n",
    "ret, frame = vs.read()"
   ]
  },
  {
   "cell_type": "code",
   "execution_count": 8,
   "id": "d96e9e11",
   "metadata": {},
   "outputs": [],
   "source": [
    "# three object to track\n",
    "\n",
    "k = 3\n",
    "\n",
    "for i in range(k):\n",
    "    cv2.imshow('Frame',frame)\n",
    "    bb = cv2.selectROI('Frame',frame)\n",
    "    tracker_i = TrackerDict['csrt']()\n",
    "    trackers.add(tracker_i,frame,bb)"
   ]
  },
  {
   "cell_type": "code",
   "execution_count": 9,
   "id": "92737244",
   "metadata": {},
   "outputs": [],
   "source": [
    "while True:\n",
    "    ret, frame = vs.read()\n",
    "    if not ret:\n",
    "        break\n",
    "    (success, boxes) = trackers.update(frame)\n",
    "    \n",
    "    for box in boxes:\n",
    "        (x,y,w,h) = [int(a) for a in box]\n",
    "        cv2.rectangle(frame,(x,y),(x+w, y+h),(0,255,0),2)\n",
    "        \n",
    "    cv2.imshow('Frame',frame)\n",
    "    key = cv2.waitKey(5) & 0xFF \n",
    "    if key == ord('q'):\n",
    "        break\n",
    "        \n",
    "video.release()\n",
    "cv2.destroyAllWindows()"
   ]
  },
  {
   "cell_type": "markdown",
   "id": "cb4b19eb",
   "metadata": {},
   "source": [
    "### Saving Annotation of Multiple Object Tracking"
   ]
  },
  {
   "cell_type": "code",
   "execution_count": 10,
   "id": "6563f4fc",
   "metadata": {},
   "outputs": [],
   "source": [
    "import numpy as np"
   ]
  },
  {
   "cell_type": "code",
   "execution_count": 11,
   "id": "9f641c24",
   "metadata": {},
   "outputs": [],
   "source": [
    "TrackerDict = {\n",
    "    'csrt': cv2.TrackerCSRT_create,\n",
    "    'kcf': cv2.TrackerKCF_create,\n",
    "    'boosting': cv2.TrackerBoosting_create,\n",
    "    'mil': cv2.TrackerMIL_create,\n",
    "    'tld': cv2.TrackerTLD_create,\n",
    "    'medianflow': cv2.TrackerMedianFlow_create,\n",
    "    'mosse': cv2.TrackerMOSSE_create\n",
    "    }\n",
    "\n",
    "trackers = cv2.MultiTracker_create()"
   ]
  },
  {
   "cell_type": "code",
   "execution_count": 12,
   "id": "fffb488a",
   "metadata": {},
   "outputs": [],
   "source": [
    "vs = cv2.VideoCapture('../images/mot.mp4')\n",
    "ret, frame = vs.read()\n",
    "\n",
    "# four object to track\n",
    "k = 4\n",
    "\n",
    "for i in range(k):\n",
    "    cv2.imshow('Frame',frame)\n",
    "    bb = cv2.selectROI('Frame',frame)\n",
    "    tracker_i = TrackerDict['csrt']()\n",
    "    trackers.add(tracker_i,frame,bb)"
   ]
  },
  {
   "cell_type": "code",
   "execution_count": 13,
   "id": "54997239",
   "metadata": {},
   "outputs": [],
   "source": [
    "frameNumber = 2\n",
    "baseDir = r\"C:\\Users\\AD\\Documents\\Learn\\Computer Vision\\Beginner to Advance\\images\\tracking result\"\n",
    "\n",
    "while True:\n",
    "    ret, frame = vs.read()\n",
    "    if not ret:\n",
    "        break\n",
    "    (success, boxes) = trackers.update(frame)\n",
    "    \n",
    "    np.savetxt(baseDir+'/frame_'+str(frameNumber)+'.txt', boxes, fmt='%f')\n",
    "    frameNumber += 1\n",
    "    \n",
    "    for box in boxes:\n",
    "        (x,y,w,h) = [int(a) for a in box]\n",
    "        cv2.rectangle(frame,(x,y),(x+w, y+h),(0,255,0),2)\n",
    "        \n",
    "    cv2.imshow('Frame',frame)\n",
    "    key = cv2.waitKey(5) & 0xFF \n",
    "    if key == ord('q'):\n",
    "        break\n",
    "        \n",
    "video.release()\n",
    "cv2.destroyAllWindows()"
   ]
  },
  {
   "cell_type": "code",
   "execution_count": null,
   "id": "46479a5f",
   "metadata": {},
   "outputs": [],
   "source": []
  },
  {
   "cell_type": "markdown",
   "id": "fb1d2f6d",
   "metadata": {},
   "source": [
    "## WebCam Single Object Tracking"
   ]
  },
  {
   "cell_type": "code",
   "execution_count": 14,
   "id": "1906ea3a",
   "metadata": {},
   "outputs": [],
   "source": [
    "import cv2\n",
    "import imutils"
   ]
  },
  {
   "cell_type": "code",
   "execution_count": 15,
   "id": "b36063f8",
   "metadata": {},
   "outputs": [],
   "source": [
    "TrackerDict = {\n",
    "    'csrt': cv2.TrackerCSRT_create,\n",
    "    'kcf': cv2.TrackerKCF_create,\n",
    "    'boosting': cv2.TrackerBoosting_create,\n",
    "    'mil': cv2.TrackerMIL_create,\n",
    "    'tld': cv2.TrackerTLD_create,\n",
    "    'medianflow': cv2.TrackerMedianFlow_create,\n",
    "    'mosse': cv2.TrackerMOSSE_create\n",
    "    }"
   ]
  },
  {
   "cell_type": "code",
   "execution_count": 16,
   "id": "8e2ad275",
   "metadata": {},
   "outputs": [],
   "source": [
    "tracker = TrackerDict['csrt']()"
   ]
  },
  {
   "cell_type": "code",
   "execution_count": 17,
   "id": "53409d61",
   "metadata": {},
   "outputs": [
    {
     "data": {
      "text/plain": [
       "True"
      ]
     },
     "execution_count": 17,
     "metadata": {},
     "output_type": "execute_result"
    }
   ],
   "source": [
    "vid = cv2.VideoCapture(0)\n",
    "ret, frame = vid.read()\n",
    "frame = imutils.resize(frame, width=720)\n",
    "cv2.imshow('Frame', frame)\n",
    "bbox = cv2.selectROI('Frame', frame)\n",
    "tracker.init(frame, bbox)"
   ]
  },
  {
   "cell_type": "code",
   "execution_count": 18,
   "id": "201d967e",
   "metadata": {},
   "outputs": [],
   "source": [
    "while True:\n",
    "    ret, frame = vid.read()\n",
    "    if not ret:\n",
    "        break\n",
    "    frame = imutils.resize(frame, width=720)\n",
    "    (success, box) = tracker.update(frame)\n",
    "    \n",
    "    if success:\n",
    "        (x,y,w,h) = [int(a) for a in box]\n",
    "        cv2.rectangle(frame,(x,y),(x+w, y+h),(0,255,0),2)\n",
    "        \n",
    "    cv2.imshow('Frame',frame)\n",
    "    key = cv2.waitKey(5) & 0xFF \n",
    "    if key == ord('q'):\n",
    "        break\n",
    "        \n",
    "video.release()\n",
    "cv2.destroyAllWindows()"
   ]
  }
 ],
 "metadata": {
  "kernelspec": {
   "display_name": "Python 3",
   "language": "python",
   "name": "python3"
  },
  "language_info": {
   "codemirror_mode": {
    "name": "ipython",
    "version": 3
   },
   "file_extension": ".py",
   "mimetype": "text/x-python",
   "name": "python",
   "nbconvert_exporter": "python",
   "pygments_lexer": "ipython3",
   "version": "3.8.8"
  }
 },
 "nbformat": 4,
 "nbformat_minor": 5
}
